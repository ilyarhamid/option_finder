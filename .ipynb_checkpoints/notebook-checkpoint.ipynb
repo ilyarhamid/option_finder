{
 "cells": [
  {
   "cell_type": "code",
   "execution_count": 7,
   "metadata": {},
   "outputs": [
    {
     "name": "stdout",
     "output_type": "stream",
     "text": [
      "The autoreload extension is already loaded. To reload it, use:\n",
      "  %reload_ext autoreload\n"
     ]
    }
   ],
   "source": [
    "%load_ext autoreload\n",
    "%autoreload 2\n",
    "from option_finder import main, recommend\n",
    "import mibian\n",
    "from datetime import datetime"
   ]
  },
  {
   "cell_type": "code",
   "execution_count": 15,
   "metadata": {},
   "outputs": [],
   "source": [
    "input_dict = {\n",
    "    \"Ticker\": \"WMT\",  # Ticker of underlying asset; \n",
    "    \"Target Price\": 135.0,  # Estimated future price\n",
    "    \"Target Date\": \"2020-08-21\",  # Estimated time when the price hit target price\n",
    "    \"Maximum Risk\": 5000.0,\n",
    "    \"Contract Number\": 5,  # Number of different options contracts to be recommended\n",
    "    \"Interest Rate\": 1.0,\n",
    "    \"Rank\": \"Delta\",  # 'Return' or 'Delta'\n",
    "    \"Delta Range\": (0.4, 0.5)\n",
    "}"
   ]
  },
  {
   "cell_type": "code",
   "execution_count": 16,
   "metadata": {},
   "outputs": [
    {
     "name": "stdout",
     "output_type": "stream",
     "text": [
      "Long Call: Buy 15.0 x 21 Aug $132.0 Call @ $3.2\n",
      "Delta: 0.5\n",
      "Entry cost: $4800.0\n",
      "Maximum risk: $4800.0\n",
      "Est. return at target price: $-300.0 (-6.25%)\n",
      "====================================================================================================\n",
      "Long Call: Buy 12.0 x 04 Sep $133.0 Call @ $4.1\n",
      "Delta: 0.48\n",
      "Entry cost: $4920.0\n",
      "Maximum risk: $4920.0\n",
      "Est. return at target price: $-2520.0 (-51.22%)\n",
      "====================================================================================================\n",
      "Long Call: Buy 15.0 x 28 Aug $133.0 Call @ $3.3\n",
      "Delta: 0.47\n",
      "Entry cost: $4950.0\n",
      "Maximum risk: $4950.0\n",
      "Est. return at target price: $-1949.8 (-39.39%)\n",
      "====================================================================================================\n",
      "Long Call: Buy 18.0 x 21 Aug $133.0 Call @ $2.7\n",
      "Delta: 0.45\n",
      "Entry cost: $4860.0\n",
      "Maximum risk: $4860.0\n",
      "Est. return at target price: $-1260.2 (-25.93%)\n",
      "====================================================================================================\n",
      "Long Call: Buy 13.0 x 04 Sep $134.0 Call @ $3.7\n",
      "Delta: 0.44\n",
      "Entry cost: $4810.0\n",
      "Maximum risk: $4810.0\n",
      "Est. return at target price: $-3509.9 (-72.97%)\n",
      "====================================================================================================\n"
     ]
    }
   ],
   "source": [
    "main(input_dict)"
   ]
  }
 ],
 "metadata": {
  "kernelspec": {
   "display_name": "Python 3",
   "language": "python",
   "name": "python3"
  },
  "language_info": {
   "codemirror_mode": {
    "name": "ipython",
    "version": 3
   },
   "file_extension": ".py",
   "mimetype": "text/x-python",
   "name": "python",
   "nbconvert_exporter": "python",
   "pygments_lexer": "ipython3",
   "version": "3.8.3"
  }
 },
 "nbformat": 4,
 "nbformat_minor": 4
}
