{
 "cells": [
  {
   "cell_type": "code",
   "execution_count": null,
   "metadata": {},
   "outputs": [],
   "source": [
    "import yfinance as yf\n",
    "import pandas as pd\n",
    "from pandas.tseries.offsets import Week\n",
    "from datetime import datetime\n",
    "import html\n",
    "import numpy as np"
   ]
  },
  {
   "cell_type": "code",
   "execution_count": null,
   "metadata": {},
   "outputs": [],
   "source": [
    "input_dict = {\n",
    "    \"Ticker\": \"UAL\",\n",
    "    \"Target Price\": 40.0,\n",
    "    \"Target Date\": \"2020-08-25\",\n",
    "    \"Maximum Risk\": 500.0,\n",
    "    \"Contract Number\": 5,\n",
    "}"
   ]
  },
  {
   "cell_type": "code",
   "execution_count": null,
   "metadata": {},
   "outputs": [],
   "source": [
    "def get_options(ticker, exp_date, typ):\n",
    "    std_date = datetime(2020,8,14)\n",
    "    std_sec = 1597363200\n",
    "    dt = exp_date - std_date\n",
    "    target_sec = std_sec + int(dt.total_seconds())\n",
    "    url = f\"finance.yahoo.com/quote/UAL/options?date={target_sec}&p={ticker}\"\n",
    "    ls = pd.read_html(\"https://\" + url)\n",
    "    if typ == \"Call\":\n",
    "        df = ls[0][[\"Strike\", \"Ask\"]]\n",
    "        ret_df = df.copy()\n",
    "        ret_df[\"Expiration Date\"] = pd.Series([exp_date] * len(df), index=df.index)\n",
    "        return ret_df\n",
    "    elif typ == \"Put\":\n",
    "        df = ls[1][[\"Strike\", \"Ask\"]]\n",
    "        ret_df = df.copy()\n",
    "        ret_df[\"Expiration Date\"] = pd.Series([exp_date] * len(df), index=df.index)\n",
    "        return ret_df\n",
    "    else:\n",
    "        raise(ValueError)"
   ]
  },
  {
   "cell_type": "code",
   "execution_count": null,
   "metadata": {},
   "outputs": [],
   "source": [
    "def info_process(dic, contract_type):\n",
    "    target_date = datetime.strptime(dic[\"Target Date\"], \"%Y-%m-%d\")\n",
    "    if target_date.isoweekday() != 5:\n",
    "        target_date = target_date + Week(weekday=4)\n",
    "    ls = []\n",
    "    while True:\n",
    "        if len(ls) == 3:\n",
    "            break\n",
    "        try:\n",
    "            ls.append(get_options(dic[\"Ticker\"], target_date, contract_type))\n",
    "            target_date = target_date + Week(weekday=4)\n",
    "        except:\n",
    "            target_date = target_date + Week(weekday=4)\n",
    "    df_options = pd.concat(ls)\n",
    "    df_options.columns = [\"Strike\", \"Price\", \"Expiration Date\"]\n",
    "    return df_options"
   ]
  },
  {
   "cell_type": "code",
   "execution_count": null,
   "metadata": {},
   "outputs": [],
   "source": [
    "def recommend(dic, contract_type):\n",
    "    df = info_process(dic, contract_type)\n",
    "    df[\"Number\"] = np.floor(dic[\"Maximum Risk\"] * 0.01 / df[\"Price\"])\n",
    "    df = df[df[\"Number\"] != 0]\n",
    "    df[\"Entry Cost\"] = df[\"Number\"] * df[\"Price\"] * 100.0\n",
    "    if contract_type == \"Call\":\n",
    "        df = df[df[\"Strike\"] < dic[\"Target Price\"]]\n",
    "        df[\"Estimated Return\"] = 100.0 * (df[\"Number\"] * 100.0 * (dic[\"Target Price\"] - df[\"Strike\"]) - df[\"Entry Cost\"]) / df[\"Entry Cost\"]\n",
    "    if contract_type == \"Put\":\n",
    "        df = df[df[\"Strike\"] > dic[\"Target Price\"]]\n",
    "        df[\"Estimated Return\"] = 100.0 * (df[\"Number\"] * 100.0 * (df[\"Strike\"] - dic[\"Target Price\"]) - df[\"Entry Cost\"]) / df[\"Entry Cost\"]\n",
    "    \n",
    "    df = round(df, 2)\n",
    "    df = df.sort_values(by=\"Estimated Return\", ascending=False)\n",
    "    return df[:dic[\"Contract Number\"]]"
   ]
  },
  {
   "cell_type": "code",
   "execution_count": null,
   "metadata": {},
   "outputs": [],
   "source": [
    "def text_output(dic):\n",
    "    current_price = yf.Ticker(dic[\"Ticker\"]).history(\"1d\")[\"Close\"].iloc[-1]\n",
    "    if dic[\"Target Price\"] > current_price: \n",
    "        contract_type = \"Call\" \n",
    "    else:\n",
    "        contract_type = \"Put\"\n",
    "    df = recommend(dic, contract_type)\n",
    "    for index, row in df.iterrows():\n",
    "        print(\"Long %s: Buy %s x %s $%s %s @ $%s\" % (contract_type,row[\"Number\"],row[\"Expiration Date\"],row[\"Strike\"],contract_type,row[\"Price\"]))\n",
    "        print(\"Entry cost: $%s (debit)\" % row[\"Entry Cost\"])\n",
    "        print(\"Maximum risk: $%s\" % row[\"Entry Cost\"])\n",
    "        print(\"Est. return at target price: $%s (%s%s)\" % (round(row[\"Estimated Return\"] * row[\"Entry Cost\"] * 0.01, 1), row[\"Estimated Return\"], \"%\"))\n",
    "        print(\"=======================================================================================================================\")"
   ]
  },
  {
   "cell_type": "code",
   "execution_count": null,
   "metadata": {},
   "outputs": [],
   "source": [
    "text_output(input_dict)"
   ]
  }
 ],
 "metadata": {
  "kernelspec": {
   "display_name": "Python 3",
   "language": "python",
   "name": "python3"
  },
  "language_info": {
   "codemirror_mode": {
    "name": "ipython",
    "version": 3
   },
   "file_extension": ".py",
   "mimetype": "text/x-python",
   "name": "python",
   "nbconvert_exporter": "python",
   "pygments_lexer": "ipython3",
   "version": "3.8.3"
  }
 },
 "nbformat": 4,
 "nbformat_minor": 4
}
