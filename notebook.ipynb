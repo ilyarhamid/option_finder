{
 "cells": [
  {
   "cell_type": "code",
   "execution_count": 1,
   "metadata": {},
   "outputs": [],
   "source": [
    "%load_ext autoreload\n",
    "%autoreload 2\n",
    "from option_finder import main"
   ]
  },
  {
   "cell_type": "code",
   "execution_count": 7,
   "metadata": {},
   "outputs": [],
   "source": [
    "input_dict = {\n",
    "    \"Ticker\": \"WKHS\",  # Ticker of underlying asset; \n",
    "    \"Target Price\": 20.0,  # Estimated future price\n",
    "    \"Target Date\": \"2020-08-14\",  # Estimated time when the price hit target price\n",
    "    \"Maximum Risk\": 500.0,\n",
    "    \"Contract Number\": 5,  # Number of different options contracts to be recommended\n",
    "}"
   ]
  },
  {
   "cell_type": "code",
   "execution_count": 8,
   "metadata": {},
   "outputs": [
    {
     "name": "stdout",
     "output_type": "stream",
     "text": [
      "Long Call: Buy 3.0 x 14 Aug $16.5 Call @ $1.6\n",
      "Entry cost: $480.0\n",
      "Maximum risk: $480.0\n",
      "Est. return at target price: $570.0 (118.75%)\n",
      "====================================================================================================\n",
      "Long Call: Buy 2.0 x 14 Aug $16.0 Call @ $1.9\n",
      "Entry cost: $380.0\n",
      "Maximum risk: $380.0\n",
      "Est. return at target price: $420.0 (110.53%)\n",
      "====================================================================================================\n",
      "Long Call: Buy 2.0 x 14 Aug $15.0 Call @ $2.4\n",
      "Entry cost: $480.0\n",
      "Maximum risk: $480.0\n",
      "Est. return at target price: $520.0 (108.33%)\n",
      "====================================================================================================\n",
      "Long Call: Buy 2.0 x 14 Aug $15.5 Call @ $2.2\n",
      "Entry cost: $440.0\n",
      "Maximum risk: $440.0\n",
      "Est. return at target price: $460.0 (104.55%)\n",
      "====================================================================================================\n",
      "Long Call: Buy 2.0 x 21 Aug $15.5 Call @ $2.25\n",
      "Entry cost: $450.0\n",
      "Maximum risk: $450.0\n",
      "Est. return at target price: $450.0 (100.0%)\n",
      "====================================================================================================\n"
     ]
    }
   ],
   "source": [
    "main(input_dict)"
   ]
  }
 ],
 "metadata": {
  "kernelspec": {
   "display_name": "Python 3",
   "language": "python",
   "name": "python3"
  },
  "language_info": {
   "codemirror_mode": {
    "name": "ipython",
    "version": 3
   },
   "file_extension": ".py",
   "mimetype": "text/x-python",
   "name": "python",
   "nbconvert_exporter": "python",
   "pygments_lexer": "ipython3",
   "version": "3.8.3"
  }
 },
 "nbformat": 4,
 "nbformat_minor": 4
}
