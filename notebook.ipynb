{
 "cells": [
  {
   "cell_type": "code",
   "execution_count": 1,
   "metadata": {},
   "outputs": [],
   "source": [
    "%load_ext autoreload\n",
    "%autoreload 2\n",
    "from option_finder import main, recommend\n",
    "import mibian\n",
    "from datetime import datetime"
   ]
  },
  {
   "cell_type": "code",
   "execution_count": 2,
   "metadata": {},
   "outputs": [],
   "source": [
    "input_dict = {\n",
    "    \"Ticker\": \"UAL\",  # Ticker of underlying asset; \n",
    "    \"Target Price\": 40.0,  # Estimated future price\n",
    "    \"Target Date\": \"2020-08-14\",  # Estimated time when the price hit target price\n",
    "    \"Maximum Risk\": 500.0,\n",
    "    \"Contract Number\": 5,  # Number of different options contracts to be recommended\n",
    "    \"Interest Rate\": 1.0,\n",
    "    \"Rank\": \"Delta\",  # 'Return' or 'Delta'\n",
    "    \"Delta Range\": (0.2, 0.5)\n",
    "}"
   ]
  },
  {
   "cell_type": "code",
   "execution_count": 3,
   "metadata": {},
   "outputs": [
    {
     "name": "stdout",
     "output_type": "stream",
     "text": [
      "Long Call: Buy 1.0 x 28 Aug $37.0 Call @ $4.5\n",
      "Delta: 0.34\n",
      "Entry cost: $450.0\n",
      "Maximum risk: $450.0\n",
      "Est. return at target price: $-150.0 (-33.33%)\n",
      "====================================================================================================\n",
      "Long Call: Buy 2.0 x 28 Aug $38.0 Call @ $1.71\n",
      "Delta: 0.24\n",
      "Entry cost: $342.0\n",
      "Maximum risk: $342.0\n",
      "Est. return at target price: $58.0 (16.96%)\n",
      "====================================================================================================\n",
      "Long Call: Buy 1.0 x 28 Aug $31.0 Call @ $4.65\n",
      "Delta: 0.22\n",
      "Entry cost: $465.0\n",
      "Maximum risk: $465.0\n",
      "Est. return at target price: $435.0 (93.55%)\n",
      "====================================================================================================\n",
      "Long Call: Buy 2.0 x 28 Aug $35.0 Call @ $2.34\n",
      "Delta: 0.22\n",
      "Entry cost: $468.0\n",
      "Maximum risk: $468.0\n",
      "Est. return at target price: $532.0 (113.68%)\n",
      "====================================================================================================\n",
      "Long Call: Buy 4.0 x 28 Aug $39.0 Call @ $1.22\n",
      "Delta: 0.22\n",
      "Entry cost: $488.0\n",
      "Maximum risk: $488.0\n",
      "Est. return at target price: $-88.0 (-18.03%)\n",
      "====================================================================================================\n"
     ]
    }
   ],
   "source": [
    "main(input_dict)"
   ]
  }
 ],
 "metadata": {
  "kernelspec": {
   "display_name": "Python 3",
   "language": "python",
   "name": "python3"
  },
  "language_info": {
   "codemirror_mode": {
    "name": "ipython",
    "version": 3
   },
   "file_extension": ".py",
   "mimetype": "text/x-python",
   "name": "python",
   "nbconvert_exporter": "python",
   "pygments_lexer": "ipython3",
   "version": "3.8.3"
  }
 },
 "nbformat": 4,
 "nbformat_minor": 4
}
