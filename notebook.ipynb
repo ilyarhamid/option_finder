{
 "cells": [
  {
   "cell_type": "code",
   "execution_count": 1,
   "metadata": {},
   "outputs": [],
   "source": [
    "%load_ext autoreload\n",
    "%autoreload 2\n",
    "from option_finder import main, recommend\n",
    "import mibian\n",
    "from datetime import datetime"
   ]
  },
  {
   "cell_type": "code",
   "execution_count": 5,
   "metadata": {},
   "outputs": [],
   "source": [
    "input_dict = {\n",
    "    \"Ticker\": \"WKHS\",  # Ticker of underlying asset; \n",
    "    \"Target Price\": 20.0,  # Estimated future price\n",
    "    \"Target Date\": \"2020-08-14\",  # Estimated time when the price hit target price\n",
    "    \"Maximum Risk\": 500.0,\n",
    "    \"Contract Number\": 5,  # Number of different options contracts to be recommended\n",
    "    \"Interest Rate\": 1.0,\n",
    "    \"Rank\": \"Return\"\n",
    "}"
   ]
  },
  {
   "cell_type": "code",
   "execution_count": 7,
   "metadata": {},
   "outputs": [
    {
     "name": "stdout",
     "output_type": "stream",
     "text": [
      "2020-08-14 00:00:00\n"
     ]
    },
    {
     "data": {
      "text/html": [
       "<div>\n",
       "<style scoped>\n",
       "    .dataframe tbody tr th:only-of-type {\n",
       "        vertical-align: middle;\n",
       "    }\n",
       "\n",
       "    .dataframe tbody tr th {\n",
       "        vertical-align: top;\n",
       "    }\n",
       "\n",
       "    .dataframe thead th {\n",
       "        text-align: right;\n",
       "    }\n",
       "</style>\n",
       "<table border=\"1\" class=\"dataframe\">\n",
       "  <thead>\n",
       "    <tr style=\"text-align: right;\">\n",
       "      <th></th>\n",
       "      <th>Strike</th>\n",
       "      <th>Price</th>\n",
       "      <th>Expiration Date</th>\n",
       "      <th>Number</th>\n",
       "      <th>Entry Cost</th>\n",
       "      <th>Estimated Return</th>\n",
       "    </tr>\n",
       "  </thead>\n",
       "  <tbody>\n",
       "    <tr>\n",
       "      <th>12</th>\n",
       "      <td>16.5</td>\n",
       "      <td>1.95</td>\n",
       "      <td>2020-08-14</td>\n",
       "      <td>2.0</td>\n",
       "      <td>390.0</td>\n",
       "      <td>79.49</td>\n",
       "    </tr>\n",
       "    <tr>\n",
       "      <th>13</th>\n",
       "      <td>17.0</td>\n",
       "      <td>1.70</td>\n",
       "      <td>2020-08-14</td>\n",
       "      <td>2.0</td>\n",
       "      <td>340.0</td>\n",
       "      <td>76.47</td>\n",
       "    </tr>\n",
       "    <tr>\n",
       "      <th>11</th>\n",
       "      <td>16.0</td>\n",
       "      <td>2.30</td>\n",
       "      <td>2020-08-14</td>\n",
       "      <td>2.0</td>\n",
       "      <td>460.0</td>\n",
       "      <td>73.91</td>\n",
       "    </tr>\n",
       "    <tr>\n",
       "      <th>10</th>\n",
       "      <td>15.5</td>\n",
       "      <td>2.60</td>\n",
       "      <td>2020-08-14</td>\n",
       "      <td>1.0</td>\n",
       "      <td>260.0</td>\n",
       "      <td>73.08</td>\n",
       "    </tr>\n",
       "    <tr>\n",
       "      <th>9</th>\n",
       "      <td>15.0</td>\n",
       "      <td>2.95</td>\n",
       "      <td>2020-08-14</td>\n",
       "      <td>1.0</td>\n",
       "      <td>295.0</td>\n",
       "      <td>69.49</td>\n",
       "    </tr>\n",
       "  </tbody>\n",
       "</table>\n",
       "</div>"
      ],
      "text/plain": [
       "    Strike  Price Expiration Date  Number  Entry Cost  Estimated Return\n",
       "12    16.5   1.95      2020-08-14     2.0       390.0             79.49\n",
       "13    17.0   1.70      2020-08-14     2.0       340.0             76.47\n",
       "11    16.0   2.30      2020-08-14     2.0       460.0             73.91\n",
       "10    15.5   2.60      2020-08-14     1.0       260.0             73.08\n",
       "9     15.0   2.95      2020-08-14     1.0       295.0             69.49"
      ]
     },
     "execution_count": 7,
     "metadata": {},
     "output_type": "execute_result"
    }
   ],
   "source": [
    "recommend(input_dict, \"Call\", 15.0)"
   ]
  }
 ],
 "metadata": {
  "kernelspec": {
   "display_name": "Python 3",
   "language": "python",
   "name": "python3"
  },
  "language_info": {
   "codemirror_mode": {
    "name": "ipython",
    "version": 3
   },
   "file_extension": ".py",
   "mimetype": "text/x-python",
   "name": "python",
   "nbconvert_exporter": "python",
   "pygments_lexer": "ipython3",
   "version": "3.8.3"
  }
 },
 "nbformat": 4,
 "nbformat_minor": 4
}
